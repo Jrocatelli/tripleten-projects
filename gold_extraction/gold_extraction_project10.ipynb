{
 "cells": [
  {
   "cell_type": "markdown",
   "metadata": {},
   "source": [
    "# Predicting the amount of extracted gold"
   ]
  },
  {
   "cell_type": "markdown",
   "metadata": {},
   "source": [
    "In this project, we will study three datasets containing information about gold extraction and purification. Our objective is to construct a machine learning model capable of predicting the quantity of gold that will be extracted. This prediction will be based on various parameters supplied within the datasets."
   ]
  },
  {
   "cell_type": "markdown",
   "metadata": {},
   "source": [
    "## Importing libraries, modules, and dataframes"
   ]
  },
  {
   "cell_type": "code",
   "execution_count": 1,
   "metadata": {},
   "outputs": [],
   "source": [
    "# Importing essential libraries and modules for this project\n",
    "\n",
    "import pandas as pd\n",
    "import seaborn as sns\n",
    "import numpy as np\n",
    "import matplotlib.pyplot as plt\n",
    "from sklearn.metrics import mean_absolute_error\n",
    "from sklearn.tree import DecisionTreeRegressor\n",
    "from sklearn.ensemble import RandomForestRegressor\n",
    "from sklearn.linear_model import LinearRegression\n",
    "from sklearn.model_selection import cross_val_score\n",
    "from sklearn.metrics import make_scorer\n",
    "from sklearn.preprocessing import StandardScaler"
   ]
  },
  {
   "cell_type": "code",
   "execution_count": 2,
   "metadata": {},
   "outputs": [],
   "source": [
    "# Reading the dataframes\n",
    "\n",
    "train = pd.read_csv('/datasets/gold_recovery_train.csv')\n",
    "test = pd.read_csv('/datasets/gold_recovery_test.csv')\n",
    "full = pd.read_csv('/datasets/gold_recovery_full.csv')"
   ]
  },
  {
   "cell_type": "code",
   "execution_count": 3,
   "metadata": {},
   "outputs": [
    {
     "name": "stdout",
     "output_type": "stream",
     "text": [
      "<class 'pandas.core.frame.DataFrame'>\n",
      "RangeIndex: 16860 entries, 0 to 16859\n",
      "Data columns (total 87 columns):\n",
      " #   Column                                              Non-Null Count  Dtype  \n",
      "---  ------                                              --------------  -----  \n",
      " 0   date                                                16860 non-null  object \n",
      " 1   final.output.concentrate_ag                         16788 non-null  float64\n",
      " 2   final.output.concentrate_pb                         16788 non-null  float64\n",
      " 3   final.output.concentrate_sol                        16490 non-null  float64\n",
      " 4   final.output.concentrate_au                         16789 non-null  float64\n",
      " 5   final.output.recovery                               15339 non-null  float64\n",
      " 6   final.output.tail_ag                                16794 non-null  float64\n",
      " 7   final.output.tail_pb                                16677 non-null  float64\n",
      " 8   final.output.tail_sol                               16715 non-null  float64\n",
      " 9   final.output.tail_au                                16794 non-null  float64\n",
      " 10  primary_cleaner.input.sulfate                       15553 non-null  float64\n",
      " 11  primary_cleaner.input.depressant                    15598 non-null  float64\n",
      " 12  primary_cleaner.input.feed_size                     16860 non-null  float64\n",
      " 13  primary_cleaner.input.xanthate                      15875 non-null  float64\n",
      " 14  primary_cleaner.output.concentrate_ag               16778 non-null  float64\n",
      " 15  primary_cleaner.output.concentrate_pb               16502 non-null  float64\n",
      " 16  primary_cleaner.output.concentrate_sol              16224 non-null  float64\n",
      " 17  primary_cleaner.output.concentrate_au               16778 non-null  float64\n",
      " 18  primary_cleaner.output.tail_ag                      16777 non-null  float64\n",
      " 19  primary_cleaner.output.tail_pb                      16761 non-null  float64\n",
      " 20  primary_cleaner.output.tail_sol                     16579 non-null  float64\n",
      " 21  primary_cleaner.output.tail_au                      16777 non-null  float64\n",
      " 22  primary_cleaner.state.floatbank8_a_air              16820 non-null  float64\n",
      " 23  primary_cleaner.state.floatbank8_a_level            16827 non-null  float64\n",
      " 24  primary_cleaner.state.floatbank8_b_air              16820 non-null  float64\n",
      " 25  primary_cleaner.state.floatbank8_b_level            16833 non-null  float64\n",
      " 26  primary_cleaner.state.floatbank8_c_air              16822 non-null  float64\n",
      " 27  primary_cleaner.state.floatbank8_c_level            16833 non-null  float64\n",
      " 28  primary_cleaner.state.floatbank8_d_air              16821 non-null  float64\n",
      " 29  primary_cleaner.state.floatbank8_d_level            16833 non-null  float64\n",
      " 30  rougher.calculation.sulfate_to_au_concentrate       16833 non-null  float64\n",
      " 31  rougher.calculation.floatbank10_sulfate_to_au_feed  16833 non-null  float64\n",
      " 32  rougher.calculation.floatbank11_sulfate_to_au_feed  16833 non-null  float64\n",
      " 33  rougher.calculation.au_pb_ratio                     15618 non-null  float64\n",
      " 34  rougher.input.feed_ag                               16778 non-null  float64\n",
      " 35  rougher.input.feed_pb                               16632 non-null  float64\n",
      " 36  rougher.input.feed_rate                             16347 non-null  float64\n",
      " 37  rougher.input.feed_size                             16443 non-null  float64\n",
      " 38  rougher.input.feed_sol                              16568 non-null  float64\n",
      " 39  rougher.input.feed_au                               16777 non-null  float64\n",
      " 40  rougher.input.floatbank10_sulfate                   15816 non-null  float64\n",
      " 41  rougher.input.floatbank10_xanthate                  16514 non-null  float64\n",
      " 42  rougher.input.floatbank11_sulfate                   16237 non-null  float64\n",
      " 43  rougher.input.floatbank11_xanthate                  14956 non-null  float64\n",
      " 44  rougher.output.concentrate_ag                       16778 non-null  float64\n",
      " 45  rougher.output.concentrate_pb                       16778 non-null  float64\n",
      " 46  rougher.output.concentrate_sol                      16698 non-null  float64\n",
      " 47  rougher.output.concentrate_au                       16778 non-null  float64\n",
      " 48  rougher.output.recovery                             14287 non-null  float64\n",
      " 49  rougher.output.tail_ag                              14610 non-null  float64\n",
      " 50  rougher.output.tail_pb                              16778 non-null  float64\n",
      " 51  rougher.output.tail_sol                             14611 non-null  float64\n",
      " 52  rougher.output.tail_au                              14611 non-null  float64\n",
      " 53  rougher.state.floatbank10_a_air                     16807 non-null  float64\n",
      " 54  rougher.state.floatbank10_a_level                   16807 non-null  float64\n",
      " 55  rougher.state.floatbank10_b_air                     16807 non-null  float64\n",
      " 56  rougher.state.floatbank10_b_level                   16807 non-null  float64\n",
      " 57  rougher.state.floatbank10_c_air                     16807 non-null  float64\n",
      " 58  rougher.state.floatbank10_c_level                   16814 non-null  float64\n",
      " 59  rougher.state.floatbank10_d_air                     16802 non-null  float64\n",
      " 60  rougher.state.floatbank10_d_level                   16809 non-null  float64\n",
      " 61  rougher.state.floatbank10_e_air                     16257 non-null  float64\n",
      " 62  rougher.state.floatbank10_e_level                   16809 non-null  float64\n",
      " 63  rougher.state.floatbank10_f_air                     16802 non-null  float64\n",
      " 64  rougher.state.floatbank10_f_level                   16802 non-null  float64\n",
      " 65  secondary_cleaner.output.tail_ag                    16776 non-null  float64\n",
      " 66  secondary_cleaner.output.tail_pb                    16764 non-null  float64\n",
      " 67  secondary_cleaner.output.tail_sol                   14874 non-null  float64\n",
      " 68  secondary_cleaner.output.tail_au                    16778 non-null  float64\n",
      " 69  secondary_cleaner.state.floatbank2_a_air            16497 non-null  float64\n",
      " 70  secondary_cleaner.state.floatbank2_a_level          16751 non-null  float64\n",
      " 71  secondary_cleaner.state.floatbank2_b_air            16705 non-null  float64\n",
      " 72  secondary_cleaner.state.floatbank2_b_level          16748 non-null  float64\n",
      " 73  secondary_cleaner.state.floatbank3_a_air            16763 non-null  float64\n",
      " 74  secondary_cleaner.state.floatbank3_a_level          16747 non-null  float64\n",
      " 75  secondary_cleaner.state.floatbank3_b_air            16752 non-null  float64\n",
      " 76  secondary_cleaner.state.floatbank3_b_level          16750 non-null  float64\n",
      " 77  secondary_cleaner.state.floatbank4_a_air            16731 non-null  float64\n",
      " 78  secondary_cleaner.state.floatbank4_a_level          16747 non-null  float64\n",
      " 79  secondary_cleaner.state.floatbank4_b_air            16768 non-null  float64\n",
      " 80  secondary_cleaner.state.floatbank4_b_level          16767 non-null  float64\n",
      " 81  secondary_cleaner.state.floatbank5_a_air            16775 non-null  float64\n",
      " 82  secondary_cleaner.state.floatbank5_a_level          16775 non-null  float64\n",
      " 83  secondary_cleaner.state.floatbank5_b_air            16775 non-null  float64\n",
      " 84  secondary_cleaner.state.floatbank5_b_level          16776 non-null  float64\n",
      " 85  secondary_cleaner.state.floatbank6_a_air            16757 non-null  float64\n",
      " 86  secondary_cleaner.state.floatbank6_a_level          16775 non-null  float64\n",
      "dtypes: float64(86), object(1)\n",
      "memory usage: 11.2+ MB\n"
     ]
    }
   ],
   "source": [
    "# Information about the train dataframe\n",
    "\n",
    "train.info()"
   ]
  },
  {
   "cell_type": "code",
   "execution_count": 4,
   "metadata": {},
   "outputs": [
    {
     "name": "stdout",
     "output_type": "stream",
     "text": [
      "<class 'pandas.core.frame.DataFrame'>\n",
      "RangeIndex: 5856 entries, 0 to 5855\n",
      "Data columns (total 53 columns):\n",
      " #   Column                                      Non-Null Count  Dtype  \n",
      "---  ------                                      --------------  -----  \n",
      " 0   date                                        5856 non-null   object \n",
      " 1   primary_cleaner.input.sulfate               5554 non-null   float64\n",
      " 2   primary_cleaner.input.depressant            5572 non-null   float64\n",
      " 3   primary_cleaner.input.feed_size             5856 non-null   float64\n",
      " 4   primary_cleaner.input.xanthate              5690 non-null   float64\n",
      " 5   primary_cleaner.state.floatbank8_a_air      5840 non-null   float64\n",
      " 6   primary_cleaner.state.floatbank8_a_level    5840 non-null   float64\n",
      " 7   primary_cleaner.state.floatbank8_b_air      5840 non-null   float64\n",
      " 8   primary_cleaner.state.floatbank8_b_level    5840 non-null   float64\n",
      " 9   primary_cleaner.state.floatbank8_c_air      5840 non-null   float64\n",
      " 10  primary_cleaner.state.floatbank8_c_level    5840 non-null   float64\n",
      " 11  primary_cleaner.state.floatbank8_d_air      5840 non-null   float64\n",
      " 12  primary_cleaner.state.floatbank8_d_level    5840 non-null   float64\n",
      " 13  rougher.input.feed_ag                       5840 non-null   float64\n",
      " 14  rougher.input.feed_pb                       5840 non-null   float64\n",
      " 15  rougher.input.feed_rate                     5816 non-null   float64\n",
      " 16  rougher.input.feed_size                     5834 non-null   float64\n",
      " 17  rougher.input.feed_sol                      5789 non-null   float64\n",
      " 18  rougher.input.feed_au                       5840 non-null   float64\n",
      " 19  rougher.input.floatbank10_sulfate           5599 non-null   float64\n",
      " 20  rougher.input.floatbank10_xanthate          5733 non-null   float64\n",
      " 21  rougher.input.floatbank11_sulfate           5801 non-null   float64\n",
      " 22  rougher.input.floatbank11_xanthate          5503 non-null   float64\n",
      " 23  rougher.state.floatbank10_a_air             5839 non-null   float64\n",
      " 24  rougher.state.floatbank10_a_level           5840 non-null   float64\n",
      " 25  rougher.state.floatbank10_b_air             5839 non-null   float64\n",
      " 26  rougher.state.floatbank10_b_level           5840 non-null   float64\n",
      " 27  rougher.state.floatbank10_c_air             5839 non-null   float64\n",
      " 28  rougher.state.floatbank10_c_level           5840 non-null   float64\n",
      " 29  rougher.state.floatbank10_d_air             5839 non-null   float64\n",
      " 30  rougher.state.floatbank10_d_level           5840 non-null   float64\n",
      " 31  rougher.state.floatbank10_e_air             5839 non-null   float64\n",
      " 32  rougher.state.floatbank10_e_level           5840 non-null   float64\n",
      " 33  rougher.state.floatbank10_f_air             5839 non-null   float64\n",
      " 34  rougher.state.floatbank10_f_level           5840 non-null   float64\n",
      " 35  secondary_cleaner.state.floatbank2_a_air    5836 non-null   float64\n",
      " 36  secondary_cleaner.state.floatbank2_a_level  5840 non-null   float64\n",
      " 37  secondary_cleaner.state.floatbank2_b_air    5833 non-null   float64\n",
      " 38  secondary_cleaner.state.floatbank2_b_level  5840 non-null   float64\n",
      " 39  secondary_cleaner.state.floatbank3_a_air    5822 non-null   float64\n",
      " 40  secondary_cleaner.state.floatbank3_a_level  5840 non-null   float64\n",
      " 41  secondary_cleaner.state.floatbank3_b_air    5840 non-null   float64\n",
      " 42  secondary_cleaner.state.floatbank3_b_level  5840 non-null   float64\n",
      " 43  secondary_cleaner.state.floatbank4_a_air    5840 non-null   float64\n",
      " 44  secondary_cleaner.state.floatbank4_a_level  5840 non-null   float64\n",
      " 45  secondary_cleaner.state.floatbank4_b_air    5840 non-null   float64\n",
      " 46  secondary_cleaner.state.floatbank4_b_level  5840 non-null   float64\n",
      " 47  secondary_cleaner.state.floatbank5_a_air    5840 non-null   float64\n",
      " 48  secondary_cleaner.state.floatbank5_a_level  5840 non-null   float64\n",
      " 49  secondary_cleaner.state.floatbank5_b_air    5840 non-null   float64\n",
      " 50  secondary_cleaner.state.floatbank5_b_level  5840 non-null   float64\n",
      " 51  secondary_cleaner.state.floatbank6_a_air    5840 non-null   float64\n",
      " 52  secondary_cleaner.state.floatbank6_a_level  5840 non-null   float64\n",
      "dtypes: float64(52), object(1)\n",
      "memory usage: 2.4+ MB\n"
     ]
    }
   ],
   "source": [
    "# Information about the test dataframe\n",
    "\n",
    "test.info()"
   ]
  },
  {
   "cell_type": "code",
   "execution_count": 5,
   "metadata": {
    "scrolled": true
   },
   "outputs": [
    {
     "name": "stdout",
     "output_type": "stream",
     "text": [
      "<class 'pandas.core.frame.DataFrame'>\n",
      "RangeIndex: 22716 entries, 0 to 22715\n",
      "Data columns (total 87 columns):\n",
      " #   Column                                              Non-Null Count  Dtype  \n",
      "---  ------                                              --------------  -----  \n",
      " 0   date                                                22716 non-null  object \n",
      " 1   final.output.concentrate_ag                         22627 non-null  float64\n",
      " 2   final.output.concentrate_pb                         22629 non-null  float64\n",
      " 3   final.output.concentrate_sol                        22331 non-null  float64\n",
      " 4   final.output.concentrate_au                         22630 non-null  float64\n",
      " 5   final.output.recovery                               20753 non-null  float64\n",
      " 6   final.output.tail_ag                                22633 non-null  float64\n",
      " 7   final.output.tail_pb                                22516 non-null  float64\n",
      " 8   final.output.tail_sol                               22445 non-null  float64\n",
      " 9   final.output.tail_au                                22635 non-null  float64\n",
      " 10  primary_cleaner.input.sulfate                       21107 non-null  float64\n",
      " 11  primary_cleaner.input.depressant                    21170 non-null  float64\n",
      " 12  primary_cleaner.input.feed_size                     22716 non-null  float64\n",
      " 13  primary_cleaner.input.xanthate                      21565 non-null  float64\n",
      " 14  primary_cleaner.output.concentrate_ag               22618 non-null  float64\n",
      " 15  primary_cleaner.output.concentrate_pb               22268 non-null  float64\n",
      " 16  primary_cleaner.output.concentrate_sol              21918 non-null  float64\n",
      " 17  primary_cleaner.output.concentrate_au               22618 non-null  float64\n",
      " 18  primary_cleaner.output.tail_ag                      22614 non-null  float64\n",
      " 19  primary_cleaner.output.tail_pb                      22594 non-null  float64\n",
      " 20  primary_cleaner.output.tail_sol                     22365 non-null  float64\n",
      " 21  primary_cleaner.output.tail_au                      22617 non-null  float64\n",
      " 22  primary_cleaner.state.floatbank8_a_air              22660 non-null  float64\n",
      " 23  primary_cleaner.state.floatbank8_a_level            22667 non-null  float64\n",
      " 24  primary_cleaner.state.floatbank8_b_air              22660 non-null  float64\n",
      " 25  primary_cleaner.state.floatbank8_b_level            22673 non-null  float64\n",
      " 26  primary_cleaner.state.floatbank8_c_air              22662 non-null  float64\n",
      " 27  primary_cleaner.state.floatbank8_c_level            22673 non-null  float64\n",
      " 28  primary_cleaner.state.floatbank8_d_air              22661 non-null  float64\n",
      " 29  primary_cleaner.state.floatbank8_d_level            22673 non-null  float64\n",
      " 30  rougher.calculation.sulfate_to_au_concentrate       22672 non-null  float64\n",
      " 31  rougher.calculation.floatbank10_sulfate_to_au_feed  22672 non-null  float64\n",
      " 32  rougher.calculation.floatbank11_sulfate_to_au_feed  22672 non-null  float64\n",
      " 33  rougher.calculation.au_pb_ratio                     21089 non-null  float64\n",
      " 34  rougher.input.feed_ag                               22618 non-null  float64\n",
      " 35  rougher.input.feed_pb                               22472 non-null  float64\n",
      " 36  rougher.input.feed_rate                             22163 non-null  float64\n",
      " 37  rougher.input.feed_size                             22277 non-null  float64\n",
      " 38  rougher.input.feed_sol                              22357 non-null  float64\n",
      " 39  rougher.input.feed_au                               22617 non-null  float64\n",
      " 40  rougher.input.floatbank10_sulfate                   21415 non-null  float64\n",
      " 41  rougher.input.floatbank10_xanthate                  22247 non-null  float64\n",
      " 42  rougher.input.floatbank11_sulfate                   22038 non-null  float64\n",
      " 43  rougher.input.floatbank11_xanthate                  20459 non-null  float64\n",
      " 44  rougher.output.concentrate_ag                       22618 non-null  float64\n",
      " 45  rougher.output.concentrate_pb                       22618 non-null  float64\n",
      " 46  rougher.output.concentrate_sol                      22526 non-null  float64\n",
      " 47  rougher.output.concentrate_au                       22618 non-null  float64\n",
      " 48  rougher.output.recovery                             19597 non-null  float64\n",
      " 49  rougher.output.tail_ag                              19979 non-null  float64\n",
      " 50  rougher.output.tail_pb                              22618 non-null  float64\n",
      " 51  rougher.output.tail_sol                             19980 non-null  float64\n",
      " 52  rougher.output.tail_au                              19980 non-null  float64\n",
      " 53  rougher.state.floatbank10_a_air                     22646 non-null  float64\n",
      " 54  rougher.state.floatbank10_a_level                   22647 non-null  float64\n",
      " 55  rougher.state.floatbank10_b_air                     22646 non-null  float64\n",
      " 56  rougher.state.floatbank10_b_level                   22647 non-null  float64\n",
      " 57  rougher.state.floatbank10_c_air                     22646 non-null  float64\n",
      " 58  rougher.state.floatbank10_c_level                   22654 non-null  float64\n",
      " 59  rougher.state.floatbank10_d_air                     22641 non-null  float64\n",
      " 60  rougher.state.floatbank10_d_level                   22649 non-null  float64\n",
      " 61  rougher.state.floatbank10_e_air                     22096 non-null  float64\n",
      " 62  rougher.state.floatbank10_e_level                   22649 non-null  float64\n",
      " 63  rougher.state.floatbank10_f_air                     22641 non-null  float64\n",
      " 64  rougher.state.floatbank10_f_level                   22642 non-null  float64\n",
      " 65  secondary_cleaner.output.tail_ag                    22616 non-null  float64\n",
      " 66  secondary_cleaner.output.tail_pb                    22600 non-null  float64\n",
      " 67  secondary_cleaner.output.tail_sol                   20501 non-null  float64\n",
      " 68  secondary_cleaner.output.tail_au                    22618 non-null  float64\n",
      " 69  secondary_cleaner.state.floatbank2_a_air            22333 non-null  float64\n",
      " 70  secondary_cleaner.state.floatbank2_a_level          22591 non-null  float64\n",
      " 71  secondary_cleaner.state.floatbank2_b_air            22538 non-null  float64\n",
      " 72  secondary_cleaner.state.floatbank2_b_level          22588 non-null  float64\n",
      " 73  secondary_cleaner.state.floatbank3_a_air            22585 non-null  float64\n",
      " 74  secondary_cleaner.state.floatbank3_a_level          22587 non-null  float64\n",
      " 75  secondary_cleaner.state.floatbank3_b_air            22592 non-null  float64\n",
      " 76  secondary_cleaner.state.floatbank3_b_level          22590 non-null  float64\n",
      " 77  secondary_cleaner.state.floatbank4_a_air            22571 non-null  float64\n",
      " 78  secondary_cleaner.state.floatbank4_a_level          22587 non-null  float64\n",
      " 79  secondary_cleaner.state.floatbank4_b_air            22608 non-null  float64\n",
      " 80  secondary_cleaner.state.floatbank4_b_level          22607 non-null  float64\n",
      " 81  secondary_cleaner.state.floatbank5_a_air            22615 non-null  float64\n",
      " 82  secondary_cleaner.state.floatbank5_a_level          22615 non-null  float64\n",
      " 83  secondary_cleaner.state.floatbank5_b_air            22615 non-null  float64\n",
      " 84  secondary_cleaner.state.floatbank5_b_level          22616 non-null  float64\n",
      " 85  secondary_cleaner.state.floatbank6_a_air            22597 non-null  float64\n",
      " 86  secondary_cleaner.state.floatbank6_a_level          22615 non-null  float64\n",
      "dtypes: float64(86), object(1)\n",
      "memory usage: 15.1+ MB\n"
     ]
    }
   ],
   "source": [
    "# Information about the full dataframe\n",
    "\n",
    "full.info()"
   ]
  },
  {
   "cell_type": "markdown",
   "metadata": {},
   "source": [
    "These dataframes each contain more than 50 columns, and some of them have missing values. Rather than analyzing and treating information for each individual column, we have decided to remove columns with null information. Although this approach may result in the loss of some interesting details, navigating through variables in datasets with this many columns is impractical and could potentially lead to misinterpretations."
   ]
  },
  {
   "cell_type": "code",
   "execution_count": 6,
   "metadata": {},
   "outputs": [
    {
     "name": "stdout",
     "output_type": "stream",
     "text": [
      "(5383, 53), (11017, 87), (16094, 87)\n"
     ]
    }
   ],
   "source": [
    "# Dropping rows with null values\n",
    "\n",
    "test = test.dropna()\n",
    "train = train.dropna()\n",
    "full = full.dropna()\n",
    "\n",
    "print(f'{test.shape}, {train.shape}, {full.shape}')"
   ]
  },
  {
   "cell_type": "markdown",
   "metadata": {},
   "source": [
    "Initially, we need to analyze the dataframe, which displays four stages (rougher, primary cleaner, secondary cleaner, and final). Each stage encompasses specific characteristics:\n",
    "\n",
    "**Rougher Stage:**\n",
    "\n",
    "Inputs: Elements utilized in the process.\n",
    "Outputs: Concentration and tail for certain elements, along with the recovery - a key characteristic.\n",
    "Additional information includes calculation details and various states.\n",
    "\n",
    "**Primary Cleaner Stage:**\n",
    "\n",
    "Inputs: Elements related to the input information.\n",
    "Outputs: Concentration and tails for specific elements, along with state information.\n",
    "\n",
    "**Secondary Cleaner Stage:**\n",
    "\n",
    "Columns primarily consist of states.\n",
    "Outputs: Tails for the considered elements.\n",
    "\n",
    "**Final Stage:**\n",
    "\n",
    "Outputs: Concentration and tails for elements from previous stages, along with recovery information specific to this stage."
   ]
  },
  {
   "cell_type": "markdown",
   "metadata": {},
   "source": [
    "## Data processing"
   ]
  },
  {
   "cell_type": "markdown",
   "metadata": {},
   "source": [
    "First, we will convert the data type of the index to datetime, considering the potential significance of this information for our study."
   ]
  },
  {
   "cell_type": "code",
   "execution_count": 7,
   "metadata": {},
   "outputs": [
    {
     "name": "stdout",
     "output_type": "stream",
     "text": [
      "<class 'pandas.core.frame.DataFrame'>\n",
      "Int64Index: 11017 entries, 0 to 16859\n",
      "Data columns (total 87 columns):\n",
      " #   Column                                              Non-Null Count  Dtype         \n",
      "---  ------                                              --------------  -----         \n",
      " 0   date                                                11017 non-null  datetime64[ns]\n",
      " 1   final.output.concentrate_ag                         11017 non-null  float64       \n",
      " 2   final.output.concentrate_pb                         11017 non-null  float64       \n",
      " 3   final.output.concentrate_sol                        11017 non-null  float64       \n",
      " 4   final.output.concentrate_au                         11017 non-null  float64       \n",
      " 5   final.output.recovery                               11017 non-null  float64       \n",
      " 6   final.output.tail_ag                                11017 non-null  float64       \n",
      " 7   final.output.tail_pb                                11017 non-null  float64       \n",
      " 8   final.output.tail_sol                               11017 non-null  float64       \n",
      " 9   final.output.tail_au                                11017 non-null  float64       \n",
      " 10  primary_cleaner.input.sulfate                       11017 non-null  float64       \n",
      " 11  primary_cleaner.input.depressant                    11017 non-null  float64       \n",
      " 12  primary_cleaner.input.feed_size                     11017 non-null  float64       \n",
      " 13  primary_cleaner.input.xanthate                      11017 non-null  float64       \n",
      " 14  primary_cleaner.output.concentrate_ag               11017 non-null  float64       \n",
      " 15  primary_cleaner.output.concentrate_pb               11017 non-null  float64       \n",
      " 16  primary_cleaner.output.concentrate_sol              11017 non-null  float64       \n",
      " 17  primary_cleaner.output.concentrate_au               11017 non-null  float64       \n",
      " 18  primary_cleaner.output.tail_ag                      11017 non-null  float64       \n",
      " 19  primary_cleaner.output.tail_pb                      11017 non-null  float64       \n",
      " 20  primary_cleaner.output.tail_sol                     11017 non-null  float64       \n",
      " 21  primary_cleaner.output.tail_au                      11017 non-null  float64       \n",
      " 22  primary_cleaner.state.floatbank8_a_air              11017 non-null  float64       \n",
      " 23  primary_cleaner.state.floatbank8_a_level            11017 non-null  float64       \n",
      " 24  primary_cleaner.state.floatbank8_b_air              11017 non-null  float64       \n",
      " 25  primary_cleaner.state.floatbank8_b_level            11017 non-null  float64       \n",
      " 26  primary_cleaner.state.floatbank8_c_air              11017 non-null  float64       \n",
      " 27  primary_cleaner.state.floatbank8_c_level            11017 non-null  float64       \n",
      " 28  primary_cleaner.state.floatbank8_d_air              11017 non-null  float64       \n",
      " 29  primary_cleaner.state.floatbank8_d_level            11017 non-null  float64       \n",
      " 30  rougher.calculation.sulfate_to_au_concentrate       11017 non-null  float64       \n",
      " 31  rougher.calculation.floatbank10_sulfate_to_au_feed  11017 non-null  float64       \n",
      " 32  rougher.calculation.floatbank11_sulfate_to_au_feed  11017 non-null  float64       \n",
      " 33  rougher.calculation.au_pb_ratio                     11017 non-null  float64       \n",
      " 34  rougher.input.feed_ag                               11017 non-null  float64       \n",
      " 35  rougher.input.feed_pb                               11017 non-null  float64       \n",
      " 36  rougher.input.feed_rate                             11017 non-null  float64       \n",
      " 37  rougher.input.feed_size                             11017 non-null  float64       \n",
      " 38  rougher.input.feed_sol                              11017 non-null  float64       \n",
      " 39  rougher.input.feed_au                               11017 non-null  float64       \n",
      " 40  rougher.input.floatbank10_sulfate                   11017 non-null  float64       \n",
      " 41  rougher.input.floatbank10_xanthate                  11017 non-null  float64       \n",
      " 42  rougher.input.floatbank11_sulfate                   11017 non-null  float64       \n",
      " 43  rougher.input.floatbank11_xanthate                  11017 non-null  float64       \n",
      " 44  rougher.output.concentrate_ag                       11017 non-null  float64       \n",
      " 45  rougher.output.concentrate_pb                       11017 non-null  float64       \n",
      " 46  rougher.output.concentrate_sol                      11017 non-null  float64       \n",
      " 47  rougher.output.concentrate_au                       11017 non-null  float64       \n",
      " 48  rougher.output.recovery                             11017 non-null  float64       \n",
      " 49  rougher.output.tail_ag                              11017 non-null  float64       \n",
      " 50  rougher.output.tail_pb                              11017 non-null  float64       \n",
      " 51  rougher.output.tail_sol                             11017 non-null  float64       \n",
      " 52  rougher.output.tail_au                              11017 non-null  float64       \n",
      " 53  rougher.state.floatbank10_a_air                     11017 non-null  float64       \n",
      " 54  rougher.state.floatbank10_a_level                   11017 non-null  float64       \n",
      " 55  rougher.state.floatbank10_b_air                     11017 non-null  float64       \n",
      " 56  rougher.state.floatbank10_b_level                   11017 non-null  float64       \n",
      " 57  rougher.state.floatbank10_c_air                     11017 non-null  float64       \n",
      " 58  rougher.state.floatbank10_c_level                   11017 non-null  float64       \n",
      " 59  rougher.state.floatbank10_d_air                     11017 non-null  float64       \n",
      " 60  rougher.state.floatbank10_d_level                   11017 non-null  float64       \n",
      " 61  rougher.state.floatbank10_e_air                     11017 non-null  float64       \n",
      " 62  rougher.state.floatbank10_e_level                   11017 non-null  float64       \n",
      " 63  rougher.state.floatbank10_f_air                     11017 non-null  float64       \n",
      " 64  rougher.state.floatbank10_f_level                   11017 non-null  float64       \n",
      " 65  secondary_cleaner.output.tail_ag                    11017 non-null  float64       \n",
      " 66  secondary_cleaner.output.tail_pb                    11017 non-null  float64       \n",
      " 67  secondary_cleaner.output.tail_sol                   11017 non-null  float64       \n",
      " 68  secondary_cleaner.output.tail_au                    11017 non-null  float64       \n",
      " 69  secondary_cleaner.state.floatbank2_a_air            11017 non-null  float64       \n",
      " 70  secondary_cleaner.state.floatbank2_a_level          11017 non-null  float64       \n",
      " 71  secondary_cleaner.state.floatbank2_b_air            11017 non-null  float64       \n",
      " 72  secondary_cleaner.state.floatbank2_b_level          11017 non-null  float64       \n",
      " 73  secondary_cleaner.state.floatbank3_a_air            11017 non-null  float64       \n",
      " 74  secondary_cleaner.state.floatbank3_a_level          11017 non-null  float64       \n",
      " 75  secondary_cleaner.state.floatbank3_b_air            11017 non-null  float64       \n",
      " 76  secondary_cleaner.state.floatbank3_b_level          11017 non-null  float64       \n",
      " 77  secondary_cleaner.state.floatbank4_a_air            11017 non-null  float64       \n",
      " 78  secondary_cleaner.state.floatbank4_a_level          11017 non-null  float64       \n",
      " 79  secondary_cleaner.state.floatbank4_b_air            11017 non-null  float64       \n",
      " 80  secondary_cleaner.state.floatbank4_b_level          11017 non-null  float64       \n",
      " 81  secondary_cleaner.state.floatbank5_a_air            11017 non-null  float64       \n",
      " 82  secondary_cleaner.state.floatbank5_a_level          11017 non-null  float64       \n",
      " 83  secondary_cleaner.state.floatbank5_b_air            11017 non-null  float64       \n",
      " 84  secondary_cleaner.state.floatbank5_b_level          11017 non-null  float64       \n",
      " 85  secondary_cleaner.state.floatbank6_a_air            11017 non-null  float64       \n",
      " 86  secondary_cleaner.state.floatbank6_a_level          11017 non-null  float64       \n",
      "dtypes: datetime64[ns](1), float64(86)\n",
      "memory usage: 7.4 MB\n"
     ]
    }
   ],
   "source": [
    "# Correcting dates datatype\n",
    "\n",
    "train['date'] = pd.to_datetime(train['date'], format='%Y%m%d %H:%M:%S')\n",
    "test['date'] = pd.to_datetime(test['date'], format='%Y%m%d %H:%M:%S')\n",
    "full['date'] = pd.to_datetime(full['date'], format='%Y%m%d %H:%M:%S')\n",
    "\n",
    "# Checking the result\n",
    "\n",
    "train.info()"
   ]
  },
  {
   "cell_type": "code",
   "execution_count": 8,
   "metadata": {},
   "outputs": [
    {
     "name": "stdout",
     "output_type": "stream",
     "text": [
      "0, 0, 0\n"
     ]
    }
   ],
   "source": [
    "# Verifying the presence of duplicated rows in each dataframe.\n",
    "\n",
    "print(f'{train.duplicated().sum()}, {test.duplicated().sum()}, {full.duplicated().sum()}')"
   ]
  },
  {
   "cell_type": "markdown",
   "metadata": {},
   "source": [
    "No duplicated rows were identified in the dataframes. However, an issue is apparent in the information print: the test dataframe has a significantly lower number of columns compared to the other dataframes. As we intend to employ this dataframe for model testing, only the information present in it should be considered for constructing our models. Consequently, we will remove the unnecessary columns, as they will not contribute to our analysis."
   ]
  },
  {
   "cell_type": "code",
   "execution_count": 9,
   "metadata": {},
   "outputs": [
    {
     "name": "stdout",
     "output_type": "stream",
     "text": [
      "87, 87, 53\n"
     ]
    }
   ],
   "source": [
    "# Determining the number of columns in each dataframe.\n",
    "\n",
    "print(f'{train.columns.size}, {full.columns.size}, {test.columns.size}')"
   ]
  },
  {
   "cell_type": "code",
   "execution_count": 10,
   "metadata": {
    "scrolled": true
   },
   "outputs": [
    {
     "data": {
      "text/plain": [
       "['final.output.concentrate_ag',\n",
       " 'final.output.concentrate_pb',\n",
       " 'final.output.concentrate_sol',\n",
       " 'final.output.concentrate_au',\n",
       " 'final.output.recovery',\n",
       " 'final.output.tail_ag',\n",
       " 'final.output.tail_pb',\n",
       " 'final.output.tail_sol',\n",
       " 'final.output.tail_au',\n",
       " 'primary_cleaner.output.concentrate_ag',\n",
       " 'primary_cleaner.output.concentrate_pb',\n",
       " 'primary_cleaner.output.concentrate_sol',\n",
       " 'primary_cleaner.output.concentrate_au',\n",
       " 'primary_cleaner.output.tail_ag',\n",
       " 'primary_cleaner.output.tail_pb',\n",
       " 'primary_cleaner.output.tail_sol',\n",
       " 'primary_cleaner.output.tail_au',\n",
       " 'rougher.calculation.sulfate_to_au_concentrate',\n",
       " 'rougher.calculation.floatbank10_sulfate_to_au_feed',\n",
       " 'rougher.calculation.floatbank11_sulfate_to_au_feed',\n",
       " 'rougher.calculation.au_pb_ratio',\n",
       " 'rougher.output.concentrate_ag',\n",
       " 'rougher.output.concentrate_pb',\n",
       " 'rougher.output.concentrate_sol',\n",
       " 'rougher.output.concentrate_au',\n",
       " 'rougher.output.recovery',\n",
       " 'rougher.output.tail_ag',\n",
       " 'rougher.output.tail_pb',\n",
       " 'rougher.output.tail_sol',\n",
       " 'rougher.output.tail_au',\n",
       " 'secondary_cleaner.output.tail_ag',\n",
       " 'secondary_cleaner.output.tail_pb',\n",
       " 'secondary_cleaner.output.tail_sol',\n",
       " 'secondary_cleaner.output.tail_au']"
      ]
     },
     "execution_count": 10,
     "metadata": {},
     "output_type": "execute_result"
    }
   ],
   "source": [
    "# Missing columns in the test dataset\n",
    "\n",
    "list = []\n",
    "\n",
    "for element in train.columns:\n",
    "    if element not in test.columns:\n",
    "        list.append(element)\n",
    "        \n",
    "list"
   ]
  },
  {
   "cell_type": "markdown",
   "metadata": {},
   "source": [
    "All the missing columns correspond to outputs and calculation parameters. In fact, this will not be useful for our training since this information is part of what we want to predict. The crucial outputs, such as recovery, will be estimated by our models. Additionally, the calculation parameters correspond to information from other columns, which should be disregarded to avoid providing redundant information to the model."
   ]
  },
  {
   "cell_type": "code",
   "execution_count": 11,
   "metadata": {},
   "outputs": [
    {
     "name": "stdout",
     "output_type": "stream",
     "text": [
      "(11017, 55), (16094, 55)\n"
     ]
    }
   ],
   "source": [
    "# Dropping unnecessary columns.\n",
    "\n",
    "processed_train = train[test.columns.to_list() + ['final.output.recovery', 'rougher.output.recovery']]\n",
    "processed_full = full[test.columns.to_list() + ['final.output.recovery', 'rougher.output.recovery']]\n",
    "\n",
    "# Checking\n",
    "\n",
    "print(f'{processed_train.shape}, {processed_full.shape}')"
   ]
  },
  {
   "cell_type": "markdown",
   "metadata": {},
   "source": [
    "Now, we are exclusively considering information that will be used during the testing phase of our machine learning project. Finally, the data appears to be consistent."
   ]
  },
  {
   "cell_type": "markdown",
   "metadata": {},
   "source": [
    "## Data Exploration"
   ]
  },
  {
   "cell_type": "markdown",
   "metadata": {},
   "source": [
    "### Recovery calculation"
   ]
  },
  {
   "cell_type": "markdown",
   "metadata": {},
   "source": [
    "The recovery is our target in this project, both after the rougher and the secondary cleaner stages. This measure can also be calculated using the concentration, feed, and tail of gold after a process. It's worthwhile to investigate whether the calculated recovery aligns closely with the measured value."
   ]
  },
  {
   "cell_type": "code",
   "execution_count": 12,
   "metadata": {},
   "outputs": [
    {
     "data": {
      "text/html": [
       "<div>\n",
       "<style scoped>\n",
       "    .dataframe tbody tr th:only-of-type {\n",
       "        vertical-align: middle;\n",
       "    }\n",
       "\n",
       "    .dataframe tbody tr th {\n",
       "        vertical-align: top;\n",
       "    }\n",
       "\n",
       "    .dataframe thead th {\n",
       "        text-align: right;\n",
       "    }\n",
       "</style>\n",
       "<table border=\"1\" class=\"dataframe\">\n",
       "  <thead>\n",
       "    <tr style=\"text-align: right;\">\n",
       "      <th></th>\n",
       "      <th>recovery</th>\n",
       "      <th>rougher.output.recovery</th>\n",
       "    </tr>\n",
       "  </thead>\n",
       "  <tbody>\n",
       "    <tr>\n",
       "      <th>0</th>\n",
       "      <td>87.107763</td>\n",
       "      <td>87.107763</td>\n",
       "    </tr>\n",
       "    <tr>\n",
       "      <th>1</th>\n",
       "      <td>86.843261</td>\n",
       "      <td>86.843261</td>\n",
       "    </tr>\n",
       "    <tr>\n",
       "      <th>2</th>\n",
       "      <td>86.842308</td>\n",
       "      <td>86.842308</td>\n",
       "    </tr>\n",
       "    <tr>\n",
       "      <th>3</th>\n",
       "      <td>87.226430</td>\n",
       "      <td>87.226430</td>\n",
       "    </tr>\n",
       "    <tr>\n",
       "      <th>4</th>\n",
       "      <td>86.688794</td>\n",
       "      <td>86.688794</td>\n",
       "    </tr>\n",
       "    <tr>\n",
       "      <th>...</th>\n",
       "      <td>...</td>\n",
       "      <td>...</td>\n",
       "    </tr>\n",
       "    <tr>\n",
       "      <th>22711</th>\n",
       "      <td>89.574376</td>\n",
       "      <td>89.574376</td>\n",
       "    </tr>\n",
       "    <tr>\n",
       "      <th>22712</th>\n",
       "      <td>87.724007</td>\n",
       "      <td>87.724007</td>\n",
       "    </tr>\n",
       "    <tr>\n",
       "      <th>22713</th>\n",
       "      <td>88.890579</td>\n",
       "      <td>88.890579</td>\n",
       "    </tr>\n",
       "    <tr>\n",
       "      <th>22714</th>\n",
       "      <td>89.858126</td>\n",
       "      <td>89.858126</td>\n",
       "    </tr>\n",
       "    <tr>\n",
       "      <th>22715</th>\n",
       "      <td>89.514960</td>\n",
       "      <td>89.514960</td>\n",
       "    </tr>\n",
       "  </tbody>\n",
       "</table>\n",
       "<p>16094 rows × 2 columns</p>\n",
       "</div>"
      ],
      "text/plain": [
       "        recovery  rougher.output.recovery\n",
       "0      87.107763                87.107763\n",
       "1      86.843261                86.843261\n",
       "2      86.842308                86.842308\n",
       "3      87.226430                87.226430\n",
       "4      86.688794                86.688794\n",
       "...          ...                      ...\n",
       "22711  89.574376                89.574376\n",
       "22712  87.724007                87.724007\n",
       "22713  88.890579                88.890579\n",
       "22714  89.858126                89.858126\n",
       "22715  89.514960                89.514960\n",
       "\n",
       "[16094 rows x 2 columns]"
      ]
     },
     "execution_count": 12,
     "metadata": {},
     "output_type": "execute_result"
    }
   ],
   "source": [
    "# Generating a column for calculated recovery (%)\n",
    "\n",
    "def recovery(concentrate, feed, tail):\n",
    "    \n",
    "    return 100*(concentrate*(feed-tail))/(feed*(concentrate-tail))\n",
    "\n",
    "full['recovery'] = recovery(full['rougher.output.concentrate_au'], full['rougher.input.feed_au'], full['rougher.output.tail_au'])\n",
    "\n",
    "full[['recovery', 'rougher.output.recovery']]"
   ]
  },
  {
   "cell_type": "code",
   "execution_count": 13,
   "metadata": {},
   "outputs": [
    {
     "data": {
      "text/plain": [
       "1.13170729570688e-14"
      ]
     },
     "execution_count": 13,
     "metadata": {},
     "output_type": "execute_result"
    }
   ],
   "source": [
    "# Calculating the mean absolute error\n",
    "\n",
    "mae = mean_absolute_error(full['rougher.output.recovery'], full['recovery'])\n",
    "\n",
    "mae"
   ]
  },
  {
   "cell_type": "markdown",
   "metadata": {},
   "source": [
    "The value is remarkably low, suggesting that the measure taken is accurate. We will proceed with further analysis."
   ]
  },
  {
   "cell_type": "markdown",
   "metadata": {},
   "source": [
    "### Analyzing metals concentrations"
   ]
  },
  {
   "cell_type": "markdown",
   "metadata": {},
   "source": [
    "Among the various pieces of information that we could analyze with these dataframes, the concentrations of metals after each stage are particularly intriguing. This is pertinent to our study of recovery, as it is directly linked to these concentrations."
   ]
  },
  {
   "cell_type": "code",
   "execution_count": 14,
   "metadata": {},
   "outputs": [
    {
     "data": {
      "text/plain": [
       "<AxesSubplot:ylabel='Frequency'>"
      ]
     },
     "execution_count": 14,
     "metadata": {},
     "output_type": "execute_result"
    },
    {
     "data": {
      "image/png": "[encoded data removed]",
      "text/plain": [
       "<Figure size 432x288 with 1 Axes>"
      ]
     },
     "metadata": {
      "needs_background": "light"
     },
     "output_type": "display_data"
    }
   ],
   "source": [
    "# Comparing the gold concentration after each stage\n",
    "\n",
    "full[['rougher.output.concentrate_au', 'primary_cleaner.output.concentrate_au' , 'final.output.concentrate_au']].plot(\n",
    "    kind = 'hist', bins = 100, alpha = 0.8, grid = True)"
   ]
  },
  {
   "cell_type": "code",
   "execution_count": 15,
   "metadata": {},
   "outputs": [
    {
     "data": {
      "text/plain": [
       "<AxesSubplot:ylabel='Frequency'>"
      ]
     },
     "execution_count": 15,
     "metadata": {},
     "output_type": "execute_result"
    },
    {
     "data": {
      "image/png": "[encoded data removed]",
      "text/plain": [
       "<Figure size 432x288 with 1 Axes>"
      ]
     },
     "metadata": {
      "needs_background": "light"
     },
     "output_type": "display_data"
    }
   ],
   "source": [
    "# Comparing the silver concentration after each stage\n",
    "\n",
    "full[['rougher.output.concentrate_ag', 'primary_cleaner.output.concentrate_ag' , 'final.output.concentrate_ag']].plot(\n",
    "    kind = 'hist', bins = 100, alpha = 0.8, grid = True)"
   ]
  },
  {
   "cell_type": "code",
   "execution_count": 16,
   "metadata": {
    "scrolled": false
   },
   "outputs": [
    {
     "data": {
      "text/plain": [
       "<AxesSubplot:ylabel='Frequency'>"
      ]
     },
     "execution_count": 16,
     "metadata": {},
     "output_type": "execute_result"
    },
    {
     "data": {
      "image/png": "[encoded data removed]",
      "text/plain": [
       "<Figure size 432x288 with 1 Axes>"
      ]
     },
     "metadata": {
      "needs_background": "light"
     },
     "output_type": "display_data"
    }
   ],
   "source": [
    "# Comparing the lead concentration after each stage\n",
    "\n",
    "full[['rougher.output.concentrate_pb', 'primary_cleaner.output.concentrate_pb' , 'final.output.concentrate_pb']].plot(\n",
    "    kind = 'hist', bins = 100, alpha = 0.8, grid = True)"
   ]
  },
  {
   "cell_type": "markdown",
   "metadata": {},
   "source": [
    "It's noticeable that the gold concentration increases after each process, evident in the three well-defined curves. Conversely, for silver, there is a decreasing trend, with lower concentration in the last stage. Regarding lead, there's a similar concentration after the second and third stages, but the concentration in the final stage varies more than in the other two.\n",
    "\n",
    "Additionally, it's interesting to observe some zero values in the metal concentration column. In a gold extraction process, having a null concentration after the first stage seems unusual."
   ]
  },
  {
   "cell_type": "code",
   "execution_count": 17,
   "metadata": {},
   "outputs": [
    {
     "data": {
      "text/plain": [
       "<AxesSubplot:ylabel='Frequency'>"
      ]
     },
     "execution_count": 17,
     "metadata": {},
     "output_type": "execute_result"
    },
    {
     "data": {
      "image/png": "[encoded data removed]",
      "text/plain": [
       "<Figure size 432x288 with 1 Axes>"
      ]
     },
     "metadata": {
      "needs_background": "light"
     },
     "output_type": "display_data"
    }
   ],
   "source": [
    "# Summing up the concentrations for the three metals.\n",
    "\n",
    "full['final_concentrate'] = full['final.output.concentrate_ag'] + full['final.output.concentrate_au'] + full['final.output.concentrate_pb']\n",
    "full['primary_cleaner_concentrate'] = full['primary_cleaner.output.concentrate_ag'] + full['primary_cleaner.output.concentrate_au'] + full['primary_cleaner.output.concentrate_pb']\n",
    "full['rougher_concentrate'] = full['rougher.output.concentrate_ag'] + full['rougher.output.concentrate_au'] + full['rougher.output.concentrate_pb']\n",
    "\n",
    "full[['rougher_concentrate', 'primary_cleaner_concentrate' , 'final_concentrate']].plot(\n",
    "    kind = 'hist', bins = 100, alpha = 0.8, grid = True)"
   ]
  },
  {
   "cell_type": "markdown",
   "metadata": {},
   "source": [
    "The distribution of metals increases for each phase, indicating that the concentration of metals is indeed rising, aligning with the desired outcome of the process. However, since the presence of zeros persists, we will proceed to remove this data from the train dataframe."
   ]
  },
  {
   "cell_type": "code",
   "execution_count": 18,
   "metadata": {
    "scrolled": true
   },
   "outputs": [
    {
     "data": {
      "text/html": [
       "<div>\n",
       "<style scoped>\n",
       "    .dataframe tbody tr th:only-of-type {\n",
       "        vertical-align: middle;\n",
       "    }\n",
       "\n",
       "    .dataframe tbody tr th {\n",
       "        vertical-align: top;\n",
       "    }\n",
       "\n",
       "    .dataframe thead th {\n",
       "        text-align: right;\n",
       "    }\n",
       "</style>\n",
       "<table border=\"1\" class=\"dataframe\">\n",
       "  <thead>\n",
       "    <tr style=\"text-align: right;\">\n",
       "      <th></th>\n",
       "      <th>date</th>\n",
       "      <th>primary_cleaner.input.sulfate</th>\n",
       "      <th>primary_cleaner.input.depressant</th>\n",
       "      <th>primary_cleaner.input.feed_size</th>\n",
       "      <th>primary_cleaner.input.xanthate</th>\n",
       "      <th>primary_cleaner.state.floatbank8_a_air</th>\n",
       "      <th>primary_cleaner.state.floatbank8_a_level</th>\n",
       "      <th>primary_cleaner.state.floatbank8_b_air</th>\n",
       "      <th>primary_cleaner.state.floatbank8_b_level</th>\n",
       "      <th>primary_cleaner.state.floatbank8_c_air</th>\n",
       "      <th>...</th>\n",
       "      <th>secondary_cleaner.state.floatbank4_b_air</th>\n",
       "      <th>secondary_cleaner.state.floatbank4_b_level</th>\n",
       "      <th>secondary_cleaner.state.floatbank5_a_air</th>\n",
       "      <th>secondary_cleaner.state.floatbank5_a_level</th>\n",
       "      <th>secondary_cleaner.state.floatbank5_b_air</th>\n",
       "      <th>secondary_cleaner.state.floatbank5_b_level</th>\n",
       "      <th>secondary_cleaner.state.floatbank6_a_air</th>\n",
       "      <th>secondary_cleaner.state.floatbank6_a_level</th>\n",
       "      <th>final.output.recovery</th>\n",
       "      <th>rougher.output.recovery</th>\n",
       "    </tr>\n",
       "  </thead>\n",
       "  <tbody>\n",
       "    <tr>\n",
       "      <th>0</th>\n",
       "      <td>2016-01-15 00:00:00</td>\n",
       "      <td>127.092003</td>\n",
       "      <td>10.128295</td>\n",
       "      <td>7.25</td>\n",
       "      <td>0.988759</td>\n",
       "      <td>1549.775757</td>\n",
       "      <td>-498.912140</td>\n",
       "      <td>1551.434204</td>\n",
       "      <td>-516.403442</td>\n",
       "      <td>1549.873901</td>\n",
       "      <td>...</td>\n",
       "      <td>12.099931</td>\n",
       "      <td>-504.715942</td>\n",
       "      <td>9.925633</td>\n",
       "      <td>-498.310211</td>\n",
       "      <td>8.079666</td>\n",
       "      <td>-500.470978</td>\n",
       "      <td>14.151341</td>\n",
       "      <td>-605.841980</td>\n",
       "      <td>70.541216</td>\n",
       "      <td>87.107763</td>\n",
       "    </tr>\n",
       "    <tr>\n",
       "      <th>1</th>\n",
       "      <td>2016-01-15 01:00:00</td>\n",
       "      <td>125.629232</td>\n",
       "      <td>10.296251</td>\n",
       "      <td>7.25</td>\n",
       "      <td>1.002663</td>\n",
       "      <td>1576.166671</td>\n",
       "      <td>-500.904965</td>\n",
       "      <td>1575.950626</td>\n",
       "      <td>-499.865889</td>\n",
       "      <td>1575.994189</td>\n",
       "      <td>...</td>\n",
       "      <td>11.950531</td>\n",
       "      <td>-501.331529</td>\n",
       "      <td>10.039245</td>\n",
       "      <td>-500.169983</td>\n",
       "      <td>7.984757</td>\n",
       "      <td>-500.582168</td>\n",
       "      <td>13.998353</td>\n",
       "      <td>-599.787184</td>\n",
       "      <td>69.266198</td>\n",
       "      <td>86.843261</td>\n",
       "    </tr>\n",
       "    <tr>\n",
       "      <th>2</th>\n",
       "      <td>2016-01-15 02:00:00</td>\n",
       "      <td>123.819808</td>\n",
       "      <td>11.316280</td>\n",
       "      <td>7.25</td>\n",
       "      <td>0.991265</td>\n",
       "      <td>1601.556163</td>\n",
       "      <td>-499.997791</td>\n",
       "      <td>1600.386685</td>\n",
       "      <td>-500.607762</td>\n",
       "      <td>1602.003542</td>\n",
       "      <td>...</td>\n",
       "      <td>11.912783</td>\n",
       "      <td>-501.133383</td>\n",
       "      <td>10.070913</td>\n",
       "      <td>-500.129135</td>\n",
       "      <td>8.013877</td>\n",
       "      <td>-500.517572</td>\n",
       "      <td>14.028663</td>\n",
       "      <td>-601.427363</td>\n",
       "      <td>68.116445</td>\n",
       "      <td>86.842308</td>\n",
       "    </tr>\n",
       "    <tr>\n",
       "      <th>3</th>\n",
       "      <td>2016-01-15 03:00:00</td>\n",
       "      <td>122.270188</td>\n",
       "      <td>11.322140</td>\n",
       "      <td>7.25</td>\n",
       "      <td>0.996739</td>\n",
       "      <td>1599.968720</td>\n",
       "      <td>-500.951778</td>\n",
       "      <td>1600.659236</td>\n",
       "      <td>-499.677094</td>\n",
       "      <td>1600.304144</td>\n",
       "      <td>...</td>\n",
       "      <td>11.999550</td>\n",
       "      <td>-501.193686</td>\n",
       "      <td>9.970366</td>\n",
       "      <td>-499.201640</td>\n",
       "      <td>7.977324</td>\n",
       "      <td>-500.255908</td>\n",
       "      <td>14.005551</td>\n",
       "      <td>-599.996129</td>\n",
       "      <td>68.347543</td>\n",
       "      <td>87.226430</td>\n",
       "    </tr>\n",
       "    <tr>\n",
       "      <th>4</th>\n",
       "      <td>2016-01-15 04:00:00</td>\n",
       "      <td>117.988169</td>\n",
       "      <td>11.913613</td>\n",
       "      <td>7.25</td>\n",
       "      <td>1.009869</td>\n",
       "      <td>1601.339707</td>\n",
       "      <td>-498.975456</td>\n",
       "      <td>1601.437854</td>\n",
       "      <td>-500.323246</td>\n",
       "      <td>1599.581894</td>\n",
       "      <td>...</td>\n",
       "      <td>11.953070</td>\n",
       "      <td>-501.053894</td>\n",
       "      <td>9.925709</td>\n",
       "      <td>-501.686727</td>\n",
       "      <td>7.894242</td>\n",
       "      <td>-500.356035</td>\n",
       "      <td>13.996647</td>\n",
       "      <td>-601.496691</td>\n",
       "      <td>66.927016</td>\n",
       "      <td>86.688794</td>\n",
       "    </tr>\n",
       "    <tr>\n",
       "      <th>...</th>\n",
       "      <td>...</td>\n",
       "      <td>...</td>\n",
       "      <td>...</td>\n",
       "      <td>...</td>\n",
       "      <td>...</td>\n",
       "      <td>...</td>\n",
       "      <td>...</td>\n",
       "      <td>...</td>\n",
       "      <td>...</td>\n",
       "      <td>...</td>\n",
       "      <td>...</td>\n",
       "      <td>...</td>\n",
       "      <td>...</td>\n",
       "      <td>...</td>\n",
       "      <td>...</td>\n",
       "      <td>...</td>\n",
       "      <td>...</td>\n",
       "      <td>...</td>\n",
       "      <td>...</td>\n",
       "      <td>...</td>\n",
       "      <td>...</td>\n",
       "    </tr>\n",
       "    <tr>\n",
       "      <th>16855</th>\n",
       "      <td>2018-08-18 06:59:59</td>\n",
       "      <td>123.381787</td>\n",
       "      <td>8.028927</td>\n",
       "      <td>6.50</td>\n",
       "      <td>1.304232</td>\n",
       "      <td>1648.421193</td>\n",
       "      <td>-400.382169</td>\n",
       "      <td>1648.742005</td>\n",
       "      <td>-400.359661</td>\n",
       "      <td>1648.578230</td>\n",
       "      <td>...</td>\n",
       "      <td>20.007571</td>\n",
       "      <td>-499.740028</td>\n",
       "      <td>18.006038</td>\n",
       "      <td>-499.834374</td>\n",
       "      <td>13.001114</td>\n",
       "      <td>-500.155694</td>\n",
       "      <td>20.007840</td>\n",
       "      <td>-501.296428</td>\n",
       "      <td>73.755150</td>\n",
       "      <td>89.574376</td>\n",
       "    </tr>\n",
       "    <tr>\n",
       "      <th>16856</th>\n",
       "      <td>2018-08-18 07:59:59</td>\n",
       "      <td>120.878188</td>\n",
       "      <td>7.962636</td>\n",
       "      <td>6.50</td>\n",
       "      <td>1.302419</td>\n",
       "      <td>1649.820162</td>\n",
       "      <td>-399.930973</td>\n",
       "      <td>1649.357538</td>\n",
       "      <td>-399.721222</td>\n",
       "      <td>1648.656192</td>\n",
       "      <td>...</td>\n",
       "      <td>20.035660</td>\n",
       "      <td>-500.251357</td>\n",
       "      <td>17.998535</td>\n",
       "      <td>-500.395178</td>\n",
       "      <td>12.954048</td>\n",
       "      <td>-499.895163</td>\n",
       "      <td>19.968498</td>\n",
       "      <td>-501.041608</td>\n",
       "      <td>69.049291</td>\n",
       "      <td>87.724007</td>\n",
       "    </tr>\n",
       "    <tr>\n",
       "      <th>16857</th>\n",
       "      <td>2018-08-18 08:59:59</td>\n",
       "      <td>105.666118</td>\n",
       "      <td>7.955111</td>\n",
       "      <td>6.50</td>\n",
       "      <td>1.315926</td>\n",
       "      <td>1649.166761</td>\n",
       "      <td>-399.888631</td>\n",
       "      <td>1649.196904</td>\n",
       "      <td>-399.677571</td>\n",
       "      <td>1647.896999</td>\n",
       "      <td>...</td>\n",
       "      <td>19.951231</td>\n",
       "      <td>-499.857027</td>\n",
       "      <td>18.019543</td>\n",
       "      <td>-500.451156</td>\n",
       "      <td>13.023431</td>\n",
       "      <td>-499.914391</td>\n",
       "      <td>19.990885</td>\n",
       "      <td>-501.518452</td>\n",
       "      <td>67.002189</td>\n",
       "      <td>88.890579</td>\n",
       "    </tr>\n",
       "    <tr>\n",
       "      <th>16858</th>\n",
       "      <td>2018-08-18 09:59:59</td>\n",
       "      <td>98.880538</td>\n",
       "      <td>7.984164</td>\n",
       "      <td>6.50</td>\n",
       "      <td>1.241969</td>\n",
       "      <td>1646.547763</td>\n",
       "      <td>-398.977083</td>\n",
       "      <td>1648.212240</td>\n",
       "      <td>-400.383265</td>\n",
       "      <td>1648.917387</td>\n",
       "      <td>...</td>\n",
       "      <td>20.054122</td>\n",
       "      <td>-500.314711</td>\n",
       "      <td>17.979515</td>\n",
       "      <td>-499.272871</td>\n",
       "      <td>12.992404</td>\n",
       "      <td>-499.976268</td>\n",
       "      <td>20.013986</td>\n",
       "      <td>-500.625471</td>\n",
       "      <td>65.523246</td>\n",
       "      <td>89.858126</td>\n",
       "    </tr>\n",
       "    <tr>\n",
       "      <th>16859</th>\n",
       "      <td>2018-08-18 10:59:59</td>\n",
       "      <td>95.248427</td>\n",
       "      <td>8.078957</td>\n",
       "      <td>6.50</td>\n",
       "      <td>1.283045</td>\n",
       "      <td>1648.759906</td>\n",
       "      <td>-399.862053</td>\n",
       "      <td>1650.135395</td>\n",
       "      <td>-399.957321</td>\n",
       "      <td>1648.831890</td>\n",
       "      <td>...</td>\n",
       "      <td>20.020205</td>\n",
       "      <td>-500.220296</td>\n",
       "      <td>17.963512</td>\n",
       "      <td>-499.939490</td>\n",
       "      <td>12.990306</td>\n",
       "      <td>-500.080993</td>\n",
       "      <td>19.990336</td>\n",
       "      <td>-499.191575</td>\n",
       "      <td>70.281454</td>\n",
       "      <td>89.514960</td>\n",
       "    </tr>\n",
       "  </tbody>\n",
       "</table>\n",
       "<p>10737 rows × 55 columns</p>\n",
       "</div>"
      ],
      "text/plain": [
       "                     date  primary_cleaner.input.sulfate  \\\n",
       "0     2016-01-15 00:00:00                     127.092003   \n",
       "1     2016-01-15 01:00:00                     125.629232   \n",
       "2     2016-01-15 02:00:00                     123.819808   \n",
       "3     2016-01-15 03:00:00                     122.270188   \n",
       "4     2016-01-15 04:00:00                     117.988169   \n",
       "...                   ...                            ...   \n",
       "16855 2018-08-18 06:59:59                     123.381787   \n",
       "16856 2018-08-18 07:59:59                     120.878188   \n",
       "16857 2018-08-18 08:59:59                     105.666118   \n",
       "16858 2018-08-18 09:59:59                      98.880538   \n",
       "16859 2018-08-18 10:59:59                      95.248427   \n",
       "\n",
       "       primary_cleaner.input.depressant  primary_cleaner.input.feed_size  \\\n",
       "0                             10.128295                             7.25   \n",
       "1                             10.296251                             7.25   \n",
       "2                             11.316280                             7.25   \n",
       "3                             11.322140                             7.25   \n",
       "4                             11.913613                             7.25   \n",
       "...                                 ...                              ...   \n",
       "16855                          8.028927                             6.50   \n",
       "16856                          7.962636                             6.50   \n",
       "16857                          7.955111                             6.50   \n",
       "16858                          7.984164                             6.50   \n",
       "16859                          8.078957                             6.50   \n",
       "\n",
       "       primary_cleaner.input.xanthate  primary_cleaner.state.floatbank8_a_air  \\\n",
       "0                            0.988759                             1549.775757   \n",
       "1                            1.002663                             1576.166671   \n",
       "2                            0.991265                             1601.556163   \n",
       "3                            0.996739                             1599.968720   \n",
       "4                            1.009869                             1601.339707   \n",
       "...                               ...                                     ...   \n",
       "16855                        1.304232                             1648.421193   \n",
       "16856                        1.302419                             1649.820162   \n",
       "16857                        1.315926                             1649.166761   \n",
       "16858                        1.241969                             1646.547763   \n",
       "16859                        1.283045                             1648.759906   \n",
       "\n",
       "       primary_cleaner.state.floatbank8_a_level  \\\n",
       "0                                   -498.912140   \n",
       "1                                   -500.904965   \n",
       "2                                   -499.997791   \n",
       "3                                   -500.951778   \n",
       "4                                   -498.975456   \n",
       "...                                         ...   \n",
       "16855                               -400.382169   \n",
       "16856                               -399.930973   \n",
       "16857                               -399.888631   \n",
       "16858                               -398.977083   \n",
       "16859                               -399.862053   \n",
       "\n",
       "       primary_cleaner.state.floatbank8_b_air  \\\n",
       "0                                 1551.434204   \n",
       "1                                 1575.950626   \n",
       "2                                 1600.386685   \n",
       "3                                 1600.659236   \n",
       "4                                 1601.437854   \n",
       "...                                       ...   \n",
       "16855                             1648.742005   \n",
       "16856                             1649.357538   \n",
       "16857                             1649.196904   \n",
       "16858                             1648.212240   \n",
       "16859                             1650.135395   \n",
       "\n",
       "       primary_cleaner.state.floatbank8_b_level  \\\n",
       "0                                   -516.403442   \n",
       "1                                   -499.865889   \n",
       "2                                   -500.607762   \n",
       "3                                   -499.677094   \n",
       "4                                   -500.323246   \n",
       "...                                         ...   \n",
       "16855                               -400.359661   \n",
       "16856                               -399.721222   \n",
       "16857                               -399.677571   \n",
       "16858                               -400.383265   \n",
       "16859                               -399.957321   \n",
       "\n",
       "       primary_cleaner.state.floatbank8_c_air  ...  \\\n",
       "0                                 1549.873901  ...   \n",
       "1                                 1575.994189  ...   \n",
       "2                                 1602.003542  ...   \n",
       "3                                 1600.304144  ...   \n",
       "4                                 1599.581894  ...   \n",
       "...                                       ...  ...   \n",
       "16855                             1648.578230  ...   \n",
       "16856                             1648.656192  ...   \n",
       "16857                             1647.896999  ...   \n",
       "16858                             1648.917387  ...   \n",
       "16859                             1648.831890  ...   \n",
       "\n",
       "       secondary_cleaner.state.floatbank4_b_air  \\\n",
       "0                                     12.099931   \n",
       "1                                     11.950531   \n",
       "2                                     11.912783   \n",
       "3                                     11.999550   \n",
       "4                                     11.953070   \n",
       "...                                         ...   \n",
       "16855                                 20.007571   \n",
       "16856                                 20.035660   \n",
       "16857                                 19.951231   \n",
       "16858                                 20.054122   \n",
       "16859                                 20.020205   \n",
       "\n",
       "       secondary_cleaner.state.floatbank4_b_level  \\\n",
       "0                                     -504.715942   \n",
       "1                                     -501.331529   \n",
       "2                                     -501.133383   \n",
       "3                                     -501.193686   \n",
       "4                                     -501.053894   \n",
       "...                                           ...   \n",
       "16855                                 -499.740028   \n",
       "16856                                 -500.251357   \n",
       "16857                                 -499.857027   \n",
       "16858                                 -500.314711   \n",
       "16859                                 -500.220296   \n",
       "\n",
       "       secondary_cleaner.state.floatbank5_a_air  \\\n",
       "0                                      9.925633   \n",
       "1                                     10.039245   \n",
       "2                                     10.070913   \n",
       "3                                      9.970366   \n",
       "4                                      9.925709   \n",
       "...                                         ...   \n",
       "16855                                 18.006038   \n",
       "16856                                 17.998535   \n",
       "16857                                 18.019543   \n",
       "16858                                 17.979515   \n",
       "16859                                 17.963512   \n",
       "\n",
       "       secondary_cleaner.state.floatbank5_a_level  \\\n",
       "0                                     -498.310211   \n",
       "1                                     -500.169983   \n",
       "2                                     -500.129135   \n",
       "3                                     -499.201640   \n",
       "4                                     -501.686727   \n",
       "...                                           ...   \n",
       "16855                                 -499.834374   \n",
       "16856                                 -500.395178   \n",
       "16857                                 -500.451156   \n",
       "16858                                 -499.272871   \n",
       "16859                                 -499.939490   \n",
       "\n",
       "       secondary_cleaner.state.floatbank5_b_air  \\\n",
       "0                                      8.079666   \n",
       "1                                      7.984757   \n",
       "2                                      8.013877   \n",
       "3                                      7.977324   \n",
       "4                                      7.894242   \n",
       "...                                         ...   \n",
       "16855                                 13.001114   \n",
       "16856                                 12.954048   \n",
       "16857                                 13.023431   \n",
       "16858                                 12.992404   \n",
       "16859                                 12.990306   \n",
       "\n",
       "       secondary_cleaner.state.floatbank5_b_level  \\\n",
       "0                                     -500.470978   \n",
       "1                                     -500.582168   \n",
       "2                                     -500.517572   \n",
       "3                                     -500.255908   \n",
       "4                                     -500.356035   \n",
       "...                                           ...   \n",
       "16855                                 -500.155694   \n",
       "16856                                 -499.895163   \n",
       "16857                                 -499.914391   \n",
       "16858                                 -499.976268   \n",
       "16859                                 -500.080993   \n",
       "\n",
       "       secondary_cleaner.state.floatbank6_a_air  \\\n",
       "0                                     14.151341   \n",
       "1                                     13.998353   \n",
       "2                                     14.028663   \n",
       "3                                     14.005551   \n",
       "4                                     13.996647   \n",
       "...                                         ...   \n",
       "16855                                 20.007840   \n",
       "16856                                 19.968498   \n",
       "16857                                 19.990885   \n",
       "16858                                 20.013986   \n",
       "16859                                 19.990336   \n",
       "\n",
       "       secondary_cleaner.state.floatbank6_a_level  final.output.recovery  \\\n",
       "0                                     -605.841980              70.541216   \n",
       "1                                     -599.787184              69.266198   \n",
       "2                                     -601.427363              68.116445   \n",
       "3                                     -599.996129              68.347543   \n",
       "4                                     -601.496691              66.927016   \n",
       "...                                           ...                    ...   \n",
       "16855                                 -501.296428              73.755150   \n",
       "16856                                 -501.041608              69.049291   \n",
       "16857                                 -501.518452              67.002189   \n",
       "16858                                 -500.625471              65.523246   \n",
       "16859                                 -499.191575              70.281454   \n",
       "\n",
       "       rougher.output.recovery  \n",
       "0                    87.107763  \n",
       "1                    86.843261  \n",
       "2                    86.842308  \n",
       "3                    87.226430  \n",
       "4                    86.688794  \n",
       "...                        ...  \n",
       "16855                89.574376  \n",
       "16856                87.724007  \n",
       "16857                88.890579  \n",
       "16858                89.858126  \n",
       "16859                89.514960  \n",
       "\n",
       "[10737 rows x 55 columns]"
      ]
     },
     "execution_count": 18,
     "metadata": {},
     "output_type": "execute_result"
    }
   ],
   "source": [
    "# Dropping rows with zero concentration in some stage.\n",
    "\n",
    "train_final_concentrate = train['final.output.concentrate_ag'] + train['final.output.concentrate_au'] + train['final.output.concentrate_pb']\n",
    "train_primary_cleaner_concentrate = train['primary_cleaner.output.concentrate_ag'] + train['primary_cleaner.output.concentrate_au'] + train['primary_cleaner.output.concentrate_pb']\n",
    "train_rougher_concentrate = train['rougher.output.concentrate_ag'] + train['rougher.output.concentrate_au'] + train['rougher.output.concentrate_pb']\n",
    "\n",
    "list_zeros_train = train_final_concentrate[train_final_concentrate == 0].index.to_list() + train_primary_cleaner_concentrate[train_primary_cleaner_concentrate == 0].index.to_list() + train_rougher_concentrate[train_rougher_concentrate == 0].index.to_list()\n",
    "\n",
    "processed_train = processed_train.drop(list_zeros_train, axis = 0)\n",
    "\n",
    "processed_train"
   ]
  },
  {
   "cell_type": "markdown",
   "metadata": {},
   "source": [
    "### Analyzing the particle size"
   ]
  },
  {
   "cell_type": "markdown",
   "metadata": {},
   "source": [
    "It's crucial to verify if certain information exhibits similar distributions between the test and train dataframes, such as particle size."
   ]
  },
  {
   "cell_type": "code",
   "execution_count": 19,
   "metadata": {},
   "outputs": [
    {
     "data": {
      "text/plain": [
       "<AxesSubplot:ylabel='Frequency'>"
      ]
     },
     "execution_count": 19,
     "metadata": {},
     "output_type": "execute_result"
    },
    {
     "data": {
      "image/png": "[encoded data removed]",
      "text/plain": [
       "<Figure size 432x288 with 1 Axes>"
      ]
     },
     "metadata": {
      "needs_background": "light"
     },
     "output_type": "display_data"
    }
   ],
   "source": [
    "# Comparing the feed size for the primary cleaner\n",
    "\n",
    "processed_train['primary_cleaner.input.feed_size'].plot(kind = 'hist', bins = 100, alpha = 0.7)\n",
    "test['primary_cleaner.input.feed_size'].plot(kind = 'hist', bins = 100, alpha = 0.7)"
   ]
  },
  {
   "cell_type": "code",
   "execution_count": 20,
   "metadata": {},
   "outputs": [
    {
     "data": {
      "text/plain": [
       "<AxesSubplot:ylabel='Frequency'>"
      ]
     },
     "execution_count": 20,
     "metadata": {},
     "output_type": "execute_result"
    },
    {
     "data": {
      "image/png": "[encoded data removed]",
      "text/plain": [
       "<Figure size 432x288 with 1 Axes>"
      ]
     },
     "metadata": {
      "needs_background": "light"
     },
     "output_type": "display_data"
    }
   ],
   "source": [
    "# Comparing the feed size for rougher\n",
    "\n",
    "processed_train['rougher.input.feed_size'].plot(kind = 'hist', bins = 100, alpha = 0.7)\n",
    "test['rougher.input.feed_size'].plot(kind = 'hist', bins = 100, alpha = 0.7)"
   ]
  },
  {
   "cell_type": "code",
   "execution_count": 21,
   "metadata": {},
   "outputs": [
    {
     "data": {
      "image/png": "[encoded data removed]",
      "text/plain": [
       "<Figure size 432x288 with 1 Axes>"
      ]
     },
     "metadata": {
      "needs_background": "light"
     },
     "output_type": "display_data"
    }
   ],
   "source": [
    "# Comparing the feed size for rougher (with boxplots)\n",
    "\n",
    "sns.boxplot(data = [processed_train['rougher.input.feed_size'], test['rougher.input.feed_size']])\n",
    "\n",
    "plt.ylim((0, 150))\n",
    "plt.show()"
   ]
  },
  {
   "cell_type": "markdown",
   "metadata": {},
   "source": [
    "The distribution is similar in each dataframe, indicating no issues. Therefore, we will proceed with the construction of our machine learning model."
   ]
  },
  {
   "cell_type": "markdown",
   "metadata": {},
   "source": [
    "## Developing a machine learning model"
   ]
  },
  {
   "cell_type": "markdown",
   "metadata": {},
   "source": [
    "Our objective is to construct a machine learning model that predicts the proportion of recovery after the rougher (25%) and in the final stage (75%). We will experiment with various models and select the one that yields the lowest error value."
   ]
  },
  {
   "cell_type": "code",
   "execution_count": 22,
   "metadata": {},
   "outputs": [
    {
     "name": "stdout",
     "output_type": "stream",
     "text": [
      "(10737, 52) (10737, 2)\n"
     ]
    }
   ],
   "source": [
    "# Creating dataframes with features and targets\n",
    "\n",
    "features_train = processed_train.drop(['date', 'final.output.recovery', 'rougher.output.recovery'], axis=1).values\n",
    "targets_train = processed_train[['final.output.recovery', 'rougher.output.recovery']].values\n",
    "\n",
    "print(features_train.shape, targets_train.shape)"
   ]
  },
  {
   "cell_type": "code",
   "execution_count": 23,
   "metadata": {},
   "outputs": [],
   "source": [
    "# Applying a scaler to enhance the performance of the model.\n",
    "\n",
    "scaler = StandardScaler()\n",
    "scaler.fit(features_train)\n",
    "features_train = scaler.transform(features_train)"
   ]
  },
  {
   "cell_type": "code",
   "execution_count": 24,
   "metadata": {},
   "outputs": [],
   "source": [
    "# Function that returns the target value\n",
    "\n",
    "def sMAPE(target, predicted):\n",
    "    return 100 * np.mean(np.abs(target - predicted) / ((np.abs(target) + np.abs(predicted)) / 2))\n",
    "\n",
    "def sMAP_final(target, predicted):\n",
    "    rougher = sMAPE(target[:, 0], predicted[:, 0])\n",
    "    final = sMAPE(target[:, 1], predicted[:, 1])\n",
    "    \n",
    "    return rougher * 0.25 + final * 0.75\n",
    "\n",
    "# Converting the function into a scorer for our models\n",
    "\n",
    "sMAP_scorer = make_scorer(sMAP_final, greater_is_better=False)"
   ]
  },
  {
   "cell_type": "code",
   "execution_count": 25,
   "metadata": {},
   "outputs": [
    {
     "name": "stdout",
     "output_type": "stream",
     "text": [
      "6.873378917164604\n"
     ]
    }
   ],
   "source": [
    "# Trying Linear Regression as model\n",
    "\n",
    "model_lr = LinearRegression()\n",
    "\n",
    "score = cross_val_score(model_lr, X=features_train, y=targets_train, scoring=sMAP_scorer, cv=5)\n",
    "\n",
    "print(np.mean(np.abs(score)))"
   ]
  },
  {
   "cell_type": "code",
   "execution_count": 26,
   "metadata": {},
   "outputs": [
    {
     "name": "stdout",
     "output_type": "stream",
     "text": [
      "For n_estimator = 1, the score is 9.922465040702171\n",
      "For n_estimator = 21, the score is 7.820772653656467\n",
      "For n_estimator = 41, the score is 7.684999042694764\n",
      "For n_estimator = 61, the score is 7.686009824300025\n",
      "For n_estimator = 81, the score is 7.671918165275187\n",
      "The best score is 7.671918165275187 for max_depth = 81\n"
     ]
    }
   ],
   "source": [
    "# Trying Random Forest Regressor as model\n",
    "\n",
    "best_n_estimator = 0\n",
    "best_score = 100\n",
    "\n",
    "for i in range(1, 101, 20):\n",
    "    \n",
    "    model_rf = RandomForestRegressor(random_state = 12345, n_estimators = i)\n",
    "    score = cross_val_score(model_rf, X = features_train, y = targets_train, scoring = sMAP_scorer, cv = 3)\n",
    "    score_mean = np.mean(score)\n",
    "    print(f'For n_estimator = {i}, the score is {np.abs(score_mean)}')\n",
    "    if np.abs(score_mean) < best_score:\n",
    "        best_score = np.abs(score_mean)\n",
    "        best_n_estimator = i\n",
    "        \n",
    "print(f'The best score is {best_score} for max_depth = {best_n_estimator}')"
   ]
  },
  {
   "cell_type": "code",
   "execution_count": 27,
   "metadata": {},
   "outputs": [
    {
     "name": "stdout",
     "output_type": "stream",
     "text": [
      "For max depth = 1, the score is 6.907771456585834\n",
      "For max depth = 2, the score is 7.073950271058209\n",
      "For max depth = 3, the score is 7.16787970180039\n",
      "For max depth = 4, the score is 7.074559464481297\n",
      "For max depth = 5, the score is 7.223224467723531\n",
      "For max depth = 6, the score is 7.604331586676068\n",
      "For max depth = 7, the score is 7.6158714375530945\n",
      "For max depth = 8, the score is 8.090057654428469\n",
      "For max depth = 9, the score is 8.64813373169973\n",
      "The best score is 6.907771456585834 for max_depth = 1\n"
     ]
    }
   ],
   "source": [
    "# Trying Decision Tree Regressor as model\n",
    "\n",
    "best_depth = 0\n",
    "best_score = 100\n",
    "\n",
    "for depth in range(1, 10):\n",
    "    \n",
    "    model_dt = DecisionTreeRegressor(random_state = 12345, max_depth = depth)\n",
    "    score = np.mean(cross_val_score(model_dt, X = features_train, y = targets_train, scoring = sMAP_scorer, cv = 5))\n",
    "    print(f'For max depth = {depth}, the score is {np.abs(score)}')\n",
    "    if np.abs(score) < best_score:\n",
    "        best_score = np.abs(score)\n",
    "        best_depth = depth\n",
    "        \n",
    "print(f'The best score is {best_score} for max_depth = {best_depth}')"
   ]
  },
  {
   "cell_type": "markdown",
   "metadata": {},
   "source": [
    "The best result, indicated by the lowest error, was obtained using the Linear Regression model. Therefore, we will proceed with this model for our test dataframe."
   ]
  },
  {
   "cell_type": "code",
   "execution_count": 28,
   "metadata": {},
   "outputs": [
    {
     "data": {
      "text/plain": [
       "8.140049461800796"
      ]
     },
     "execution_count": 28,
     "metadata": {},
     "output_type": "execute_result"
    }
   ],
   "source": [
    "processed_test = test.merge(full[['date', 'final.output.recovery', 'rougher.output.recovery']], on = 'date', how = 'left').dropna()\n",
    "\n",
    "features_test = processed_test.drop(['date', 'final.output.recovery', 'rougher.output.recovery'], axis=1)\n",
    "targets_test = processed_test[['final.output.recovery', 'rougher.output.recovery']]\n",
    "\n",
    "features_test = scaler.transform(features_test)\n",
    "\n",
    "final_model = LinearRegression()\n",
    "final_model.fit(features_train, targets_train)\n",
    "predicted = final_model.predict(features_test)\n",
    "\n",
    "sMAP_final(targets_test.to_numpy(), predicted)"
   ]
  },
  {
   "cell_type": "markdown",
   "metadata": {},
   "source": [
    "## Conclusion"
   ]
  },
  {
   "cell_type": "markdown",
   "metadata": {},
   "source": [
    "After thorough investigation of the dataframes, we explored three model possibilities to construct our machine learning model. The development process involved an examination of particle size, the presence of zeros in metal concentrations, and the concentration evolution of each metal in each stage. Ultimately, we selected the Linear Regression model, which yielded the best result. Applying this model to our test dataframe, we achieved a final score of 8.14%."
   ]
  }
 ],
 "metadata": {
  "kernelspec": {
   "display_name": "Python 3 (ipykernel)",
   "language": "python",
   "name": "python3"
  },
  "language_info": {
   "codemirror_mode": {
    "name": "ipython",
    "version": 3
   },
   "file_extension": ".py",
   "mimetype": "text/x-python",
   "name": "python",
   "nbconvert_exporter": "python",
   "pygments_lexer": "ipython3",
   "version": "3.9.13"
  },
  "toc": {
   "base_numbering": 1,
   "nav_menu": {},
   "number_sections": true,
   "sideBar": true,
   "skip_h1_title": true,
   "title_cell": "Table of Contents",
   "title_sidebar": "Contents",
   "toc_cell": false,
   "toc_position": {},
   "toc_section_display": true,
   "toc_window_display": false
  }
 },
 "nbformat": 4,
 "nbformat_minor": 2
}
